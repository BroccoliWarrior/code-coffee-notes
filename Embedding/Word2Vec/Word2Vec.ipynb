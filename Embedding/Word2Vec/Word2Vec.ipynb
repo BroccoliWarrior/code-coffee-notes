{
  "nbformat": 4,
  "nbformat_minor": 0,
  "metadata": {
    "colab": {
      "provenance": [],
      "gpuType": "T4",
      "mount_file_id": "1Tp4CqNTED29odUwKUTgqsZtZ77BzDy16",
      "authorship_tag": "ABX9TyNRRVqPJ/Z6zlBnJjQcMYM7",
      "include_colab_link": true
    },
    "kernelspec": {
      "name": "python3",
      "display_name": "Python 3"
    },
    "language_info": {
      "name": "python"
    },
    "accelerator": "GPU"
  },
  "cells": [
    {
      "cell_type": "markdown",
      "metadata": {
        "id": "view-in-github",
        "colab_type": "text"
      },
      "source": [
        "<a href=\"https://colab.research.google.com/github/BroccoliWarrior/code-coffee-notes/blob/main/Embedding/Word2Vec/Word2Vec.ipynb\" target=\"_parent\"><img src=\"https://colab.research.google.com/assets/colab-badge.svg\" alt=\"Open In Colab\"/></a>"
      ]
    },
    {
      "cell_type": "code",
      "execution_count": 14,
      "metadata": {
        "id": "jm7720pv9bPi"
      },
      "outputs": [],
      "source": [
        "import jieba\n",
        "import jieba.analyse\n",
        "\n",
        "# Improve name recognition accuracy by adjusting word segmentation frequency\n",
        "names = ['沙瑞金', '田国富', '高育良', '侯亮平', '钟小艾', '陈岩石', '欧阳菁',\n",
        "         '易学习', '王大路', '蔡成功', '孙连城', '季昌明', '丁义珍', '郑西坡',\n",
        "         '赵东来', '高小琴', '赵瑞龙', '林华华', '陆亦可', '刘新建', '刘庆祝', '赵德汉']\n",
        "for name in names:\n",
        "    jieba.suggest_freq(name, True)  # Force jieba to treat full names as single tokens\n",
        "\n",
        "with open('/content/drive/MyDrive/Programs/in_the_name_of_people.txt', 'rb') as f:\n",
        "    document = f.read().decode('utf-8')  # Decode bytes to string using UTF-8\n",
        "    document_cut = jieba.cut(document)   # Use jieba to segment Chinese text\n",
        "    result = ' '.join(document_cut)      # Join segmented words with spaces\n",
        "\n",
        "with open('/content/drive/MyDrive/Programs/in_the_name_of_people_segment.txt', 'w', encoding='utf-8') as f2:\n",
        "    f2.write(result)\n"
      ]
    },
    {
      "cell_type": "code",
      "source": [
        "import logging\n",
        "from gensim.models import word2vec\n",
        "\n",
        "logging.basicConfig(format='%(asctime)s : %(levelname)s : %(message)s', level=logging.INFO)\n",
        "\n",
        "sentences = word2vec.LineSentence('/content/drive/MyDrive/Programs/in_the_name_of_people_segment.txt')\n",
        "\n",
        "model = word2vec.Word2Vec(\n",
        "    sentences,\n",
        "    vector_size=100,  # Dimensionality of the word vectors\n",
        "    window=3,         # Context window size\n",
        "    min_count=1,      # Minimum frequency for a word to be included in the vocabulary\n",
        "    hs=1,             # Enable hierarchical softmax\n",
        "    negative=0        # Disable negative sampling\n",
        ")\n"
      ],
      "metadata": {
        "id": "CuUGXcD6Cssg"
      },
      "execution_count": 27,
      "outputs": []
    },
    {
      "cell_type": "code",
      "source": [
        "for e in model.wv.similar_by_word('沙瑞金', topn=5):\n",
        "  print (e[0], e[1])"
      ],
      "metadata": {
        "colab": {
          "base_uri": "https://localhost:8080/"
        },
        "id": "v07Y5sz5Fxd-",
        "outputId": "a44d4e4b-170b-48c4-a94e-59e18608598e"
      },
      "execution_count": 28,
      "outputs": [
        {
          "output_type": "stream",
          "name": "stdout",
          "text": [
            "高育良 0.7466056942939758\n",
            "罢 0.7388681173324585\n",
            "田国富 0.6658576130867004\n",
            "季昌明 0.6585335731506348\n",
            "出世 0.6317422986030579\n"
          ]
        }
      ]
    },
    {
      "cell_type": "code",
      "source": [
        "for e in model.wv.most_similar(positive=['沙瑞金'], topn=5):\n",
        "  print(e[0], e[1])"
      ],
      "metadata": {
        "colab": {
          "base_uri": "https://localhost:8080/"
        },
        "id": "1L1rQVQSGvc3",
        "outputId": "75965fbe-1002-4918-94c7-e65ce52e86e1"
      },
      "execution_count": 29,
      "outputs": [
        {
          "output_type": "stream",
          "name": "stdout",
          "text": [
            "高育良 0.7466056942939758\n",
            "罢 0.7388681173324585\n",
            "田国富 0.6658576130867004\n",
            "季昌明 0.6585335731506348\n",
            "出世 0.6317422986030579\n"
          ]
        }
      ]
    },
    {
      "cell_type": "code",
      "source": [
        "model.wv.most_similar(positive=['李达康', '欧阳菁'], negative=['侯亮平'])"
      ],
      "metadata": {
        "colab": {
          "base_uri": "https://localhost:8080/"
        },
        "id": "5yUC5nyZG6Hd",
        "outputId": "fff61f1b-3f1d-48c8-eb31-6d2fe09ba3c4"
      },
      "execution_count": 30,
      "outputs": [
        {
          "output_type": "execute_result",
          "data": {
            "text/plain": [
              "[('敏感', 0.7321382761001587),\n",
              " ('分管', 0.7248748540878296),\n",
              " ('爱好者', 0.7164219617843628),\n",
              " ('车祸', 0.7074781060218811),\n",
              " ('烧伤', 0.7066584825515747),\n",
              " ('交流', 0.6980273723602295),\n",
              " ('回到', 0.6813526153564453),\n",
              " ('落马', 0.6771437525749207),\n",
              " ('公平', 0.6758783459663391),\n",
              " ('纪委', 0.6748790144920349)]"
            ]
          },
          "metadata": {},
          "execution_count": 30
        }
      ]
    }
  ]
}